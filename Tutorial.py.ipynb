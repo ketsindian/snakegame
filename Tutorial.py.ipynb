{
 "cells": [
  {
   "cell_type": "code",
   "execution_count": 42,
   "metadata": {},
   "outputs": [],
   "source": [
    "# Module 1\n",
    "# Basic Data types and variables"
   ]
  },
  {
   "cell_type": "code",
   "execution_count": 43,
   "metadata": {},
   "outputs": [
    {
     "name": "stdout",
     "output_type": "stream",
     "text": [
      "Hello World!\n"
     ]
    }
   ],
   "source": [
    "# This is first program \n",
    "print ('Hello World!')"
   ]
  },
  {
   "cell_type": "code",
   "execution_count": 44,
   "metadata": {},
   "outputs": [
    {
     "name": "stdout",
     "output_type": "stream",
     "text": [
      "5\n",
      "<class 'int'>\n",
      "9.6\n",
      "<class 'float'>\n",
      "3\n",
      "<class 'int'>\n",
      "abcd  is  <class 'str'>\n",
      "<class 'type'>\n"
     ]
    }
   ],
   "source": [
    "# Dynamic Binding\n",
    "# Declaring and assigning value to variable\n",
    "# no need to declare variable before assigning , no need to declare type \n",
    "var=5\n",
    "print(var)\n",
    "print(type(var))\n",
    "\n",
    "#reassigning to float\n",
    "var=9.6\n",
    "print(var)\n",
    "print(type(var))\n",
    "\n",
    "var=9%6\n",
    "print(var)\n",
    "print(type(var))\n",
    "\n",
    "var='abcd'\n",
    "print(var,' is ',type(var))\n",
    "\n",
    "\n",
    "print(type(type(var)))\n",
    "\n",
    "        "
   ]
  },
  {
   "cell_type": "code",
   "execution_count": 45,
   "metadata": {},
   "outputs": [
    {
     "name": "stdout",
     "output_type": "stream",
     "text": [
      "abcdabcdabcdabcd\n"
     ]
    }
   ],
   "source": [
    "# Operator overloading\n",
    "print(var*4)"
   ]
  },
  {
   "cell_type": "code",
   "execution_count": 46,
   "metadata": {},
   "outputs": [
    {
     "name": "stdout",
     "output_type": "stream",
     "text": [
      "8\n",
      "<class 'int'>\n",
      "<class 'float'>\n",
      "15625000000\n"
     ]
    }
   ],
   "source": [
    "# Two more opeartors in python\n",
    "a=50\n",
    "b=6\n",
    "# floor division\n",
    "print(a//b)\n",
    "print(type(a//b))\n",
    "print(type(a/b))\n",
    "# exponent\n",
    "print(a ** b)"
   ]
  },
  {
   "cell_type": "code",
   "execution_count": 47,
   "metadata": {},
   "outputs": [
    {
     "name": "stdout",
     "output_type": "stream",
     "text": [
      "10.0\n",
      "1\n",
      "<class 'str'>\n"
     ]
    }
   ],
   "source": [
    "# type casting\n",
    "print(float(10))\n",
    "print(int(1.66))\n",
    "a=1.5\n",
    "a=str(a)\n",
    "print(type(a))"
   ]
  },
  {
   "cell_type": "code",
   "execution_count": null,
   "metadata": {},
   "outputs": [],
   "source": [
    "#################################################"
   ]
  },
  {
   "cell_type": "code",
   "execution_count": 56,
   "metadata": {},
   "outputs": [
    {
     "ename": "IndentationError",
     "evalue": "unexpected indent (<ipython-input-56-ee4e77b4f184>, line 16)",
     "output_type": "error",
     "traceback": [
      "\u001b[0;36m  File \u001b[0;32m\"<ipython-input-56-ee4e77b4f184>\"\u001b[0;36m, line \u001b[0;32m16\u001b[0m\n\u001b[0;31m    print('yes')\u001b[0m\n\u001b[0m    ^\u001b[0m\n\u001b[0;31mIndentationError\u001b[0m\u001b[0;31m:\u001b[0m unexpected indent\n"
     ]
    }
   ],
   "source": [
    "# Module 2\n",
    "# Python Indentation\n",
    "if (False):\n",
    "    print('yes')\n",
    "else :\n",
    "    print('no')\n",
    "    \n",
    "#     nested if\n",
    "\n",
    "if(True):\n",
    "    while(True):\n",
    "        print('yes')\n",
    "        break\n",
    "    print('if loop')\n",
    "print('if loop ends here')\n",
    "#     print('yes')"
   ]
  },
  {
   "cell_type": "code",
   "execution_count": 57,
   "metadata": {},
   "outputs": [],
   "source": [
    "# #####################"
   ]
  },
  {
   "cell_type": "code",
   "execution_count": 58,
   "metadata": {},
   "outputs": [],
   "source": [
    "# Module 3\n",
    "# more on strings "
   ]
  },
  {
   "cell_type": "code",
   "execution_count": 59,
   "metadata": {},
   "outputs": [],
   "source": [
    "# ##################"
   ]
  },
  {
   "cell_type": "code",
   "execution_count": 60,
   "metadata": {},
   "outputs": [],
   "source": [
    "# module 4\n",
    "# Functions and scope"
   ]
  },
  {
   "cell_type": "code",
   "execution_count": 73,
   "metadata": {},
   "outputs": [
    {
     "name": "stdout",
     "output_type": "stream",
     "text": [
      "81\n",
      "43046721\n",
      "<class 'function'>\n",
      "<class 'int'>\n",
      "<function f at 0x7f9b900cef28>\n",
      "Only printed when x is positive; x = 1\n",
      "Also only printed when x is positive; x = 1\n",
      "Always printed, regardless of x's value; x = 1\n",
      "Always printed, regardless of x's value; x = 0\n"
     ]
    }
   ],
   "source": [
    "def f(n):\n",
    "    return n ** 2\n",
    "print(f(9))\n",
    "print(f(f(f(9))))\n",
    "\n",
    "print(type(f))\n",
    "print(type(2))\n",
    "# integer and function are not fundamentally different in python\n",
    "print(f)\n",
    "\n",
    "def f(x):\n",
    "    if x > 0:\n",
    "        print(\"Only printed when x is positive; x =\", x)\n",
    "        print(\"Also only printed when x is positive; x =\", x)\n",
    "    print(\"Always printed, regardless of x's value; x =\", x)\n",
    "    \n",
    "f(1)\n",
    "f(0)"
   ]
  },
  {
   "cell_type": "code",
   "execution_count": null,
   "metadata": {},
   "outputs": [],
   "source": [
    "##############################################################"
   ]
  },
  {
   "cell_type": "code",
   "execution_count": 68,
   "metadata": {},
   "outputs": [],
   "source": [
    "# module 5\n",
    "# lambda functions\n"
   ]
  },
  {
   "cell_type": "code",
   "execution_count": 69,
   "metadata": {},
   "outputs": [],
   "source": [
    "#######################################################"
   ]
  },
  {
   "cell_type": "code",
   "execution_count": null,
   "metadata": {},
   "outputs": [],
   "source": [
    "# module 6\n",
    "# Lists "
   ]
  },
  {
   "cell_type": "code",
   "execution_count": 75,
   "metadata": {},
   "outputs": [
    {
     "data": {
      "text/plain": [
       "[1, 2, 3, 4]"
      ]
     },
     "execution_count": 75,
     "metadata": {},
     "output_type": "execute_result"
    }
   ],
   "source": [
    "# Lists contained in []\n",
    "numbers=[1,2,3,4]\n",
    "numbers"
   ]
  },
  {
   "cell_type": "code",
   "execution_count": null,
   "metadata": {},
   "outputs": [],
   "source": []
  }
 ],
 "metadata": {
  "kernelspec": {
   "display_name": "Python 3",
   "language": "python",
   "name": "python3"
  },
  "language_info": {
   "codemirror_mode": {
    "name": "ipython",
    "version": 3
   },
   "file_extension": ".py",
   "mimetype": "text/x-python",
   "name": "python",
   "nbconvert_exporter": "python",
   "pygments_lexer": "ipython3",
   "version": "3.7.0"
  }
 },
 "nbformat": 4,
 "nbformat_minor": 2
}
